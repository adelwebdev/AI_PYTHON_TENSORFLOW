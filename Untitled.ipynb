{
 "cells": [
  {
   "cell_type": "code",
   "execution_count": null,
   "id": "a3ec5c60",
   "metadata": {},
   "outputs": [],
   "source": [
    "import pandas as pd\n",
    "data = pd.read_csv(\"BTC-USD.csv\")\n",
    "from sklearn.tree import DecisionTreeClassifier\n",
    "from sklearn.model_selection import train_test_split\n",
    "from sklearn.metrics import accuracy_score\n",
    "from sklearn import preprocessing\n",
    "from sklearn import utils\n",
    "\n",
    "#convert y values to categorical values\n",
    "lab = preprocessing.LabelEncoder()\n",
    "\n",
    "\n",
    "#view transformed values\n",
    "\n",
    "\n",
    "x = data.drop(columns = ['Date', 'High', 'Low', 'Adj Close', 'Close', 'Volume'])\n",
    "y = data['Close']\n",
    "y_transformed = lab.fit_transform(y)\n",
    "\n",
    "# print(y_transformed)\n",
    "\n",
    "x_train, x_test, y_train, y_test = train_test_split(x, y_transformed, test_size = 0.2)\n",
    "model = DecisionTreeClassifier()\n",
    "model.fit(x, y_transformed)\n",
    "predictions = model.predict(x_test)\n",
    "score = accuracy_score(y_test, predictions)\n",
    "score\n",
    "\n"
   ]
  },
  {
   "cell_type": "code",
   "execution_count": null,
   "id": "36e863d0",
   "metadata": {},
   "outputs": [],
   "source": []
  },
  {
   "cell_type": "code",
   "execution_count": null,
   "id": "497b4ae2",
   "metadata": {},
   "outputs": [],
   "source": []
  }
 ],
 "metadata": {
  "kernelspec": {
   "display_name": "Python 3 (ipykernel)",
   "language": "python",
   "name": "python3"
  },
  "language_info": {
   "codemirror_mode": {
    "name": "ipython",
    "version": 3
   },
   "file_extension": ".py",
   "mimetype": "text/x-python",
   "name": "python",
   "nbconvert_exporter": "python",
   "pygments_lexer": "ipython3",
   "version": "3.9.7"
  }
 },
 "nbformat": 4,
 "nbformat_minor": 5
}
